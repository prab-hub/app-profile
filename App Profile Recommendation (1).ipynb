{
 "cells": [
  {
   "cell_type": "markdown",
   "id": "92e3b4ed",
   "metadata": {},
   "source": [
    "# Profitable App Profiles for the App Store and Google Play Markets\n",
    "\n",
    "Our goal with this project is to analyse the most profitable market for launching a new app. We have data about existing apps from both Google Play Store and Apple Store. We will analyse these apps and their data to come up with viable market for creatibe a new app. \n",
    "\n",
    "We are looking to build free app and our main source of revenue consists of in-app ads. This means that our revenue for app is mostly influenced by the number of users that use our app. Our goal for this project is to analyze data to help our developers understand what kinds of apps are likely to attract more users."
   ]
  },
  {
   "cell_type": "markdown",
   "id": "acf0f9b8",
   "metadata": {},
   "source": [
    "# Opening and Exploring the Data\n",
    "\n",
    "As of 2023, Google Play Store has 3.553 million mobile apps accessible for Android users, while 1.642 million available on the Apple App Store. Analysing all these apps will require lot of resources. So instead we will be analysing sample datasets of less than 10K apps for both platforms. \n",
    "\n",
    "There are 2 datasets with relevant data for our project. \n",
    "\n",
    "1) Google Play Store dataset is dowloaded from here: https://www.kaggle.com/datasets/lava18/google-play-store-apps\n",
    "2) Apple App Store dataset is downloaded from here https://www.kaggle.com/datasets/ramamet4/app-store-apple-data-set-10k-apps\n",
    "\n",
    "We will use functions from csv module to import data from csv files. "
   ]
  },
  {
   "cell_type": "code",
   "execution_count": 1,
   "id": "4a129d03",
   "metadata": {},
   "outputs": [],
   "source": [
    "from csv import reader\n",
    "\n",
    "#importing apple play store data\n",
    "\n",
    "opened_file = open('C:/Users/Linus/Documents/Sheets/apps_data/AppleStore.csv', encoding='utf-8')\n",
    "read_file = reader(opened_file)\n",
    "apple = list(read_file)\n",
    "apple_header = apple[0]     #header\n",
    "apple = apple[1:]           #removing header for analysis\n",
    "\n",
    "#importing android/Google play store data\n",
    "\n",
    "opened_file = open('C:/Users/Linus/Documents/Sheets/apps_data/googleplaystore.csv', encoding='utf-8')\n",
    "read_file = reader(opened_file)\n",
    "android = list(read_file)\n",
    "android_header = android[0]   #header\n",
    "android = android[1:]           #removing header for analysis"
   ]
  },
  {
   "cell_type": "markdown",
   "id": "b6aecd9c",
   "metadata": {},
   "source": [
    "To better understand the data and make it easier to explore datasets, we will define `explore_data()` function."
   ]
  },
  {
   "cell_type": "code",
   "execution_count": 2,
   "id": "d17ff132",
   "metadata": {},
   "outputs": [],
   "source": [
    "def explore_data(dataset, start, end, rows_and_columns=False):\n",
    "    dataset_slice = dataset[start:end]\n",
    "    for row in dataset_slice:\n",
    "        print(row)\n",
    "        print('\\n')\n",
    "        \n",
    "    if rows_and_columns:\n",
    "        print('Number of rows:', len(dataset))\n",
    "        print('Number of columns:', len(dataset[0]))"
   ]
  },
  {
   "cell_type": "markdown",
   "id": "a90b4bff",
   "metadata": {},
   "source": [
    "Let's take a look at Apple Store data:"
   ]
  },
  {
   "cell_type": "code",
   "execution_count": 3,
   "id": "1237db2c",
   "metadata": {},
   "outputs": [
    {
     "name": "stdout",
     "output_type": "stream",
     "text": [
      "['', 'id', 'track_name', 'size_bytes', 'currency', 'price', 'rating_count_tot', 'rating_count_ver', 'user_rating', 'user_rating_ver', 'ver', 'cont_rating', 'prime_genre', 'sup_devices.num', 'ipadSc_urls.num', 'lang.num', 'vpp_lic']\n",
      "\n",
      "\n",
      "['1', '281656475', 'PAC-MAN Premium', '100788224', 'USD', '3.99', '21292', '26', '4', '4.5', '6.3.5', '4+', 'Games', '38', '5', '10', '1']\n",
      "\n",
      "\n",
      "['2', '281796108', 'Evernote - stay organized', '158578688', 'USD', '0', '161065', '26', '4', '3.5', '8.2.2', '4+', 'Productivity', '37', '5', '23', '1']\n",
      "\n",
      "\n",
      "['3', '281940292', 'WeatherBug - Local Weather, Radar, Maps, Alerts', '100524032', 'USD', '0', '188583', '2822', '3.5', '4.5', '5.0.0', '4+', 'Weather', '37', '5', '3', '1']\n",
      "\n",
      "\n",
      "['4', '282614216', 'eBay: Best App to Buy, Sell, Save! Online Shopping', '128512000', 'USD', '0', '262241', '649', '4', '4.5', '5.10.0', '12+', 'Shopping', '37', '5', '9', '1']\n",
      "\n",
      "\n",
      "['5', '282935706', 'Bible', '92774400', 'USD', '0', '985920', '5320', '4.5', '5', '7.5.1', '4+', 'Reference', '37', '5', '45', '1']\n",
      "\n",
      "\n",
      "Number of rows: 7197\n",
      "Number of columns: 17\n"
     ]
    }
   ],
   "source": [
    "print(apple_header)\n",
    "print('\\n')\n",
    "explore_data(apple, 0, 5, True)"
   ]
  },
  {
   "cell_type": "markdown",
   "id": "e9741668",
   "metadata": {},
   "source": [
    "We can see that there  are 7197 apps in the dataset and each of them have interesting datapoints including `price`, `user_rating`, `prime_genre` which could be useful for our analysis.\n",
    "\n",
    "Now analyse Google play store apps data:"
   ]
  },
  {
   "cell_type": "code",
   "execution_count": 4,
   "id": "187f3d5e",
   "metadata": {},
   "outputs": [
    {
     "name": "stdout",
     "output_type": "stream",
     "text": [
      "['App', 'Category', 'Rating', 'Reviews', 'Size', 'Installs', 'Type', 'Price', 'Content Rating', 'Genres', 'Last Updated', 'Current Ver', 'Android Ver']\n",
      "\n",
      "\n",
      "['Photo Editor & Candy Camera & Grid & ScrapBook', 'ART_AND_DESIGN', '4.1', '159', '19M', '10,000+', 'Free', '0', 'Everyone', 'Art & Design', 'January 7, 2018', '1.0.0', '4.0.3 and up']\n",
      "\n",
      "\n",
      "['Coloring book moana', 'ART_AND_DESIGN', '3.9', '967', '14M', '500,000+', 'Free', '0', 'Everyone', 'Art & Design;Pretend Play', 'January 15, 2018', '2.0.0', '4.0.3 and up']\n",
      "\n",
      "\n",
      "['U Launcher Lite – FREE Live Cool Themes, Hide Apps', 'ART_AND_DESIGN', '4.7', '87510', '8.7M', '5,000,000+', 'Free', '0', 'Everyone', 'Art & Design', 'August 1, 2018', '1.2.4', '4.0.3 and up']\n",
      "\n",
      "\n",
      "['Sketch - Draw & Paint', 'ART_AND_DESIGN', '4.5', '215644', '25M', '50,000,000+', 'Free', '0', 'Teen', 'Art & Design', 'June 8, 2018', 'Varies with device', '4.2 and up']\n",
      "\n",
      "\n",
      "['Pixel Draw - Number Art Coloring Book', 'ART_AND_DESIGN', '4.3', '967', '2.8M', '100,000+', 'Free', '0', 'Everyone', 'Art & Design;Creativity', 'June 20, 2018', '1.1', '4.4 and up']\n",
      "\n",
      "\n",
      "Number of rows: 10841\n",
      "Number of columns: 13\n"
     ]
    }
   ],
   "source": [
    "print(android_header)\n",
    "print('\\n')\n",
    "explore_data(android, 0, 5, True)"
   ]
  },
  {
   "cell_type": "markdown",
   "id": "85857c72",
   "metadata": {},
   "source": [
    "There are 10841 Google play store apps. `Category`, `rating`, `Installs` and `Reviews` columns will be great data for our analysis. "
   ]
  },
  {
   "cell_type": "markdown",
   "id": "60118f2b",
   "metadata": {},
   "source": [
    "# Data Cleaning\n",
    "\n",
    "In the [community discussion](https://www.kaggle.com/datasets/lava18/google-play-store-apps/discussion/66015) for the dataset, 1 user has discovered the error in row number 10472 of Google Play store apps. Let's check it."
   ]
  },
  {
   "cell_type": "code",
   "execution_count": 5,
   "id": "e2c13ebe",
   "metadata": {},
   "outputs": [
    {
     "name": "stdout",
     "output_type": "stream",
     "text": [
      "['App', 'Category', 'Rating', 'Reviews', 'Size', 'Installs', 'Type', 'Price', 'Content Rating', 'Genres', 'Last Updated', 'Current Ver', 'Android Ver']\n",
      "\n",
      "\n",
      "['Photo Editor & Candy Camera & Grid & ScrapBook', 'ART_AND_DESIGN', '4.1', '159', '19M', '10,000+', 'Free', '0', 'Everyone', 'Art & Design', 'January 7, 2018', '1.0.0', '4.0.3 and up']\n",
      "\n",
      "\n",
      "['Life Made WI-Fi Touchscreen Photo Frame', '1.9', '19', '3.0M', '1,000+', 'Free', '0', 'Everyone', '', 'February 11, 2018', '1.0.19', '4.0 and up']\n"
     ]
    }
   ],
   "source": [
    "print(android_header) #header\n",
    "print('\\n')\n",
    "print(android[0]) #correct row\n",
    "print('\\n')\n",
    "print(android[10472]) #incorrect row"
   ]
  },
  {
   "cell_type": "markdown",
   "id": "5af9a078",
   "metadata": {},
   "source": [
    "Indeed, the row has errors. `Category` for row 10472 has rating instead of category and the following column values have shifted to left column. \n",
    "\n",
    "This will cause problems in our analysis. So we will delete the row. \n",
    "\n",
    "<div class=\"alert alert-warning\">\n",
    "    Warning: Run the below cell only once.\n",
    "</div>\n"
   ]
  },
  {
   "cell_type": "code",
   "execution_count": 6,
   "id": "a4f6c759",
   "metadata": {
    "editable": false,
    "scrolled": true
   },
   "outputs": [
    {
     "name": "stdout",
     "output_type": "stream",
     "text": [
      "10841\n",
      "10840\n"
     ]
    }
   ],
   "source": [
    "print(len(android)) # rows before deletion\n",
    "del android[10472]  # delete the row\n",
    "print(len(android)) # rows after deletion"
   ]
  },
  {
   "cell_type": "markdown",
   "id": "362812a3",
   "metadata": {},
   "source": [
    "# Removing the duplicate entries\n",
    "\n",
    "Duplicate values can lead to bad data. So we will check if any app is entered twice and remove them."
   ]
  },
  {
   "cell_type": "code",
   "execution_count": 7,
   "id": "9be15f2f",
   "metadata": {},
   "outputs": [
    {
     "name": "stdout",
     "output_type": "stream",
     "text": [
      "Number of duplicate apps: 1181\n",
      "\n",
      "\n",
      "Example of duplicate apps: ['Quick PDF Scanner + OCR FREE', 'Box', 'Google My Business', 'ZOOM Cloud Meetings', 'join.me - Simple Meetings', 'Box', 'Zenefits', 'Google Ads', 'Google My Business', 'Slack', 'FreshBooks Classic', 'Insightly CRM', 'QuickBooks Accounting: Invoicing & Expenses', 'HipChat - Chat Built for Teams', 'Xero Accounting Software']\n"
     ]
    }
   ],
   "source": [
    "duplicate_apps = []\n",
    "unique_apps = []\n",
    "\n",
    "for app in android:\n",
    "    name = app[0]\n",
    "    if name in unique_apps:\n",
    "        duplicate_apps.append(name)\n",
    "    else:\n",
    "        unique_apps.append(name)\n",
    "        \n",
    "print('Number of duplicate apps:', len(duplicate_apps))\n",
    "print('\\n')\n",
    "print('Example of duplicate apps:', duplicate_apps[:15])"
   ]
  },
  {
   "cell_type": "markdown",
   "id": "804c9fe7",
   "metadata": {},
   "source": [
    "We don't want to count same apps more than once when we analyze data, so we need to remove the duplicate entries and keep only one entry per app. One thing we could do is remove the duplicate rows randomly, but we could probably find a better way.\n",
    "\n",
    "We won't remove rows randomly, rather we'll keep the rows that have the highest number of reviews because the higher the number of reviews, the more reliable the ratings.\n",
    "\n",
    "To do that, we will create a dictionary where each key is a unique app name, and the value is the highest number of reviews of that app.\n",
    "\n",
    "Then use the dictionary to create a new data set, which will have only one entry per app (and we only select the apps with the highest number of reviews)"
   ]
  },
  {
   "cell_type": "code",
   "execution_count": 8,
   "id": "6e1a6106",
   "metadata": {},
   "outputs": [],
   "source": [
    "reviews_max = {}\n",
    "\n",
    "for app in android:\n",
    "    name = app[0]\n",
    "    n_reviews = float(app[3])\n",
    "    \n",
    "    if name in reviews_max and reviews_max[name] < n_reviews:\n",
    "        reviews_max[name] = n_reviews\n",
    "    elif name not in reviews_max:\n",
    "        reviews_max[name] = n_reviews"
   ]
  },
  {
   "cell_type": "markdown",
   "id": "1db66fce",
   "metadata": {},
   "source": [
    "In the previous code cell, we sae that there are 1181 cases where app appears more than once, so the lenght of our unique apps dictionary should be equal to difference between the lenght of our data and 1181.  "
   ]
  },
  {
   "cell_type": "code",
   "execution_count": 9,
   "id": "109206d4",
   "metadata": {},
   "outputs": [
    {
     "name": "stdout",
     "output_type": "stream",
     "text": [
      "Expected length: 9659\n",
      "Actual length: 9659\n"
     ]
    }
   ],
   "source": [
    "print('Expected length:', len(android)-1181)\n",
    "print('Actual length:', len(reviews_max))"
   ]
  },
  {
   "cell_type": "markdown",
   "id": "05198e13",
   "metadata": {},
   "source": [
    "Now we have to remove duplicate entries. We can use `reviews_max` dictionary for achieving it. \n",
    "\n",
    "We can use for loop to iterate over every app in `android` list and add rows that have maximum reviews for particular app to list `android_clean`. We will also `alerady_added`to avoid it being iterated again. \n"
   ]
  },
  {
   "cell_type": "code",
   "execution_count": 10,
   "id": "f2cb992d",
   "metadata": {},
   "outputs": [],
   "source": [
    "android_clean = []\n",
    "already_added = []\n",
    "\n",
    "for app in android:\n",
    "    name = app[0]\n",
    "    n_reviews = float(app[3])\n",
    "    \n",
    "    if (reviews_max[name] == n_reviews) and (name not in already_added):\n",
    "        android_clean.append(app)\n",
    "        already_added.append(name)"
   ]
  },
  {
   "cell_type": "markdown",
   "id": "0aac5955",
   "metadata": {},
   "source": [
    "We can explore the new dataset now to confirm that there are only 9659 rows now."
   ]
  },
  {
   "cell_type": "code",
   "execution_count": 11,
   "id": "7ed7d946",
   "metadata": {},
   "outputs": [
    {
     "name": "stdout",
     "output_type": "stream",
     "text": [
      "['Photo Editor & Candy Camera & Grid & ScrapBook', 'ART_AND_DESIGN', '4.1', '159', '19M', '10,000+', 'Free', '0', 'Everyone', 'Art & Design', 'January 7, 2018', '1.0.0', '4.0.3 and up']\n",
      "\n",
      "\n",
      "['U Launcher Lite – FREE Live Cool Themes, Hide Apps', 'ART_AND_DESIGN', '4.7', '87510', '8.7M', '5,000,000+', 'Free', '0', 'Everyone', 'Art & Design', 'August 1, 2018', '1.2.4', '4.0.3 and up']\n",
      "\n",
      "\n",
      "['Sketch - Draw & Paint', 'ART_AND_DESIGN', '4.5', '215644', '25M', '50,000,000+', 'Free', '0', 'Teen', 'Art & Design', 'June 8, 2018', 'Varies with device', '4.2 and up']\n",
      "\n",
      "\n",
      "Number of rows: 9659\n",
      "Number of columns: 13\n"
     ]
    }
   ],
   "source": [
    "explore_data(android_clean, 0, 3, True)"
   ]
  },
  {
   "cell_type": "markdown",
   "id": "5da56d93",
   "metadata": {},
   "source": [
    "# Removing Non-English Apps\n",
    "\n",
    "If you explore the data sets enough, you'll notice names of come apps are not in English. Below we can see couple of examples:"
   ]
  },
  {
   "cell_type": "code",
   "execution_count": 12,
   "id": "a94b4f5c",
   "metadata": {},
   "outputs": [
    {
     "name": "stdout",
     "output_type": "stream",
     "text": [
      "搜狐新闻—新闻热点资讯掌上阅读软件\n",
      "エレメンタル ファンタジー - 高精細３ＤアクションＲＰＧ\n",
      "中国語 AQリスニング\n",
      "لعبة تقدر تربح DZ\n"
     ]
    }
   ],
   "source": [
    "print(apple[814][2])\n",
    "print(apple[6734][2])\n",
    "\n",
    "print(android_clean[4412][0])\n",
    "print(android_clean[7940][0])"
   ]
  },
  {
   "cell_type": "markdown",
   "id": "6791fe33",
   "metadata": {},
   "source": [
    "Since our app is intended for English audience, we are not interested in these apps. So we will remove them.\n",
    "\n",
    "The characters that are specific to English texts are encoded using the ASCII standard. Each ASCII character has a corresponding number between 0 and 127 associated with it, and we can take advantage of that to build a function that checks an app name and tells us whether it contains non-ASCII characters.\n",
    "\n",
    "We will build the `is_english()` funtion that will use in-built `ord()` function to find our corresponding ASCII number of each character."
   ]
  },
  {
   "cell_type": "code",
   "execution_count": 13,
   "id": "9b952d08",
   "metadata": {},
   "outputs": [
    {
     "name": "stdout",
     "output_type": "stream",
     "text": [
      "True\n",
      "False\n"
     ]
    }
   ],
   "source": [
    "def is_english(string):\n",
    "    \n",
    "    for character in string:\n",
    "        if ord(character) > 127:\n",
    "            return False\n",
    "    \n",
    "    return True\n",
    "\n",
    "print(is_english('Data Scientist'))\n",
    "print(is_english('डेटा वैज्ञानिक'))"
   ]
  },
  {
   "cell_type": "markdown",
   "id": "258fecca",
   "metadata": {},
   "source": [
    "The function seems to work fine, but some English app names use emojis or other symbols (™, —, –, etc.) that fall outside of the ASCII range. Because of this, we might remove useful apps if we use the function in its current form."
   ]
  },
  {
   "cell_type": "code",
   "execution_count": 14,
   "id": "a7dbb06e",
   "metadata": {},
   "outputs": [
    {
     "name": "stdout",
     "output_type": "stream",
     "text": [
      "False\n",
      "False\n"
     ]
    }
   ],
   "source": [
    "print(is_english('FIFA World Cup™'))\n",
    "print(is_english('Funny Friends 😜'))"
   ]
  },
  {
   "cell_type": "markdown",
   "id": "58245c6c",
   "metadata": {},
   "source": [
    "To minimize the impact of data loss, we'll only remove an app if its name has more than three non-ASCII characters:"
   ]
  },
  {
   "cell_type": "code",
   "execution_count": 15,
   "id": "c7c408db",
   "metadata": {},
   "outputs": [
    {
     "name": "stdout",
     "output_type": "stream",
     "text": [
      "True\n",
      "True\n"
     ]
    }
   ],
   "source": [
    "def is_english(string):\n",
    "    non_ascii = 0\n",
    "    \n",
    "    for character in string:\n",
    "        if ord(character) > 127:\n",
    "            non_ascii += 1\n",
    "    \n",
    "    if non_ascii > 3:\n",
    "        return False\n",
    "    else:\n",
    "        return True\n",
    "\n",
    "print(is_english('FIFA World Cup™'))\n",
    "print(is_english('Funny Friends 😜😜😜'))"
   ]
  },
  {
   "cell_type": "markdown",
   "id": "57be483f",
   "metadata": {},
   "source": [
    "The function is still not perfect, and some non-English apps might get past our filter, but this seems good enough at this point in our analysis — we shouldn't spend too much time on optimization at this point.\n",
    "\n",
    "Below, we use the is_english() function to filter out the non-English apps for both data sets. \n",
    "\n",
    "We will initiate 2 empty lists `android_english` and `apple_english`. Then iterate over earlier datasets and only add apps for which `is_english()` returns True. "
   ]
  },
  {
   "cell_type": "code",
   "execution_count": 16,
   "id": "c4fba918",
   "metadata": {},
   "outputs": [
    {
     "name": "stdout",
     "output_type": "stream",
     "text": [
      "['Photo Editor & Candy Camera & Grid & ScrapBook', 'ART_AND_DESIGN', '4.1', '159', '19M', '10,000+', 'Free', '0', 'Everyone', 'Art & Design', 'January 7, 2018', '1.0.0', '4.0.3 and up']\n",
      "\n",
      "\n",
      "['U Launcher Lite – FREE Live Cool Themes, Hide Apps', 'ART_AND_DESIGN', '4.7', '87510', '8.7M', '5,000,000+', 'Free', '0', 'Everyone', 'Art & Design', 'August 1, 2018', '1.2.4', '4.0.3 and up']\n",
      "\n",
      "\n",
      "['Sketch - Draw & Paint', 'ART_AND_DESIGN', '4.5', '215644', '25M', '50,000,000+', 'Free', '0', 'Teen', 'Art & Design', 'June 8, 2018', 'Varies with device', '4.2 and up']\n",
      "\n",
      "\n",
      "Number of rows: 9614\n",
      "Number of columns: 13\n",
      "\n",
      "\n",
      "\n",
      "['1', '281656475', 'PAC-MAN Premium', '100788224', 'USD', '3.99', '21292', '26', '4', '4.5', '6.3.5', '4+', 'Games', '38', '5', '10', '1']\n",
      "\n",
      "\n",
      "['2', '281796108', 'Evernote - stay organized', '158578688', 'USD', '0', '161065', '26', '4', '3.5', '8.2.2', '4+', 'Productivity', '37', '5', '23', '1']\n",
      "\n",
      "\n",
      "['3', '281940292', 'WeatherBug - Local Weather, Radar, Maps, Alerts', '100524032', 'USD', '0', '188583', '2822', '3.5', '4.5', '5.0.0', '4+', 'Weather', '37', '5', '3', '1']\n",
      "\n",
      "\n",
      "Number of rows: 6183\n",
      "Number of columns: 17\n"
     ]
    }
   ],
   "source": [
    "android_english = []\n",
    "apple_english = []\n",
    "\n",
    "for app in android_clean:\n",
    "    name = app[0]\n",
    "    if is_english(name):\n",
    "        android_english.append(app)\n",
    "\n",
    "for app in apple:\n",
    "    name = app[2]\n",
    "    if is_english(name):\n",
    "        apple_english.append(app)\n",
    "        \n",
    "explore_data(android_english, 0, 3, True)\n",
    "print('\\n\\n')\n",
    "explore_data(apple_english, 0, 3, True)"
   ]
  },
  {
   "cell_type": "markdown",
   "id": "9d5c0314",
   "metadata": {},
   "source": [
    "We are left with 9614 Android & 6183 Apple apps. "
   ]
  },
  {
   "cell_type": "markdown",
   "id": "5033582d",
   "metadata": {},
   "source": [
    "# Isloating the Free Apps\n",
    "\n",
    "As we have mentioned in introduction, we want to build a free app. So our analysis must be confined to free apps only. But both datasets contain both free and non-free apps, so we need to isolate the free apps. \n",
    "\n",
    "Below we will create empty lists and append the apps if their price is `0`."
   ]
  },
  {
   "cell_type": "code",
   "execution_count": 17,
   "id": "4dac9a0d",
   "metadata": {},
   "outputs": [
    {
     "name": "stdout",
     "output_type": "stream",
     "text": [
      "8864\n",
      "3222\n"
     ]
    }
   ],
   "source": [
    "android_final = []\n",
    "apple_final = []\n",
    "\n",
    "for app in android_english:\n",
    "    price  = app[7]\n",
    "    if price == '0':\n",
    "        android_final.append(app)\n",
    "        \n",
    "for app in apple_english:\n",
    "    price  = app[5]\n",
    "    if price == '0':\n",
    "        apple_final.append(app)\n",
    "        \n",
    "print(len(android_final))\n",
    "print(len(apple_final))"
   ]
  },
  {
   "cell_type": "markdown",
   "id": "b2c4e7a1",
   "metadata": {},
   "source": [
    "We are now left with 8864 Android & 3222 Apple apps which should be enough sample size for our analysis."
   ]
  },
  {
   "cell_type": "markdown",
   "id": "f5f790de",
   "metadata": {},
   "source": [
    "# Most Common Apps by Genre\n",
    "\n",
    "As we mentioned in the introduction, our aim is to determine the kinds of apps that are likely to attract more users because our revenue is highly influenced by the number of people using our apps.\n",
    "\n",
    "To minimize risks and overhead, our validation strategy for an app idea is comprised of three steps:\n",
    "\n",
    "1. Build a minimal Android version of the app, and add it to Google Play.\n",
    "2. If the app has a good response from users, we then develop it further.\n",
    "3. If the app is profitable after six months, we also build an iOS version of the app and add it to the App Store.\n",
    "\n",
    "Because our end goal is to add the app on both the App Store and Google Play, we need to find app profiles that are successful on both markets. For instance, a profile that might work well for both markets might be a productivity app that makes use of gamification.\n",
    "\n",
    "Let's begin the analysis by getting a sense of the most common genres for each market. For this, we'll build a frequency table for the `prime_genre` column of the App Store data set, and the `Genres` and `Category` columns of the Google Play data set.\n",
    "\n",
    "\n",
    "We'll build two functions we can use to analyze the frequency tables:\n",
    "\n",
    "One function to generate frequency tables that show percentages. Another function that we can use to display the percentages in a descending order."
   ]
  },
  {
   "cell_type": "code",
   "execution_count": 18,
   "id": "bc5ac93e",
   "metadata": {},
   "outputs": [],
   "source": [
    "def freq_table(dataset, index):\n",
    "    table = {}\n",
    "    total = 0\n",
    "    \n",
    "    for row in dataset:\n",
    "        total += 1\n",
    "        value = row[index]\n",
    "        if value in table:\n",
    "            table[value] += 1\n",
    "        else:\n",
    "            table[value] = 1\n",
    "            \n",
    "    table_percentages  = {}\n",
    "    for key in table:\n",
    "        percentage = (table[key] / total) * 10\n",
    "        table_percentages[key] = percentage\n",
    "        \n",
    "    return table_percentages\n",
    "\n",
    "def display_table(dataset, index):\n",
    "    table = freq_table(dataset, index)\n",
    "    table_display = []\n",
    "    for key in table:\n",
    "        key_val_as_tuple = (table[key], key)\n",
    "        table_display.append(key_val_as_tuple)\n",
    "        \n",
    "    table_sorted = sorted(table_display, reverse = True)\n",
    "    for entry in table_sorted:\n",
    "        print(entry[1], ':', entry[0])"
   ]
  },
  {
   "cell_type": "markdown",
   "id": "e2ddee58",
   "metadata": {},
   "source": [
    "# Most Common Apps by Genre: Analysis\n",
    "\n",
    "\n",
    "We start by examining the frequency table for `prime_genre` column of Apple store data."
   ]
  },
  {
   "cell_type": "code",
   "execution_count": 19,
   "id": "578ad46b",
   "metadata": {},
   "outputs": [
    {
     "name": "stdout",
     "output_type": "stream",
     "text": [
      "Games : 5.816263190564866\n",
      "Entertainment : 0.7883302296710117\n",
      "Photo & Video : 0.4965859714463067\n",
      "Education : 0.3662321539416512\n",
      "Social Networking : 0.32898820608317814\n",
      "Shopping : 0.260707635009311\n",
      "Utilities : 0.25139664804469275\n",
      "Sports : 0.21415270018621976\n",
      "Music : 0.2048417132216015\n",
      "Health & Fitness : 0.20173805090006208\n",
      "Productivity : 0.1738050900062073\n",
      "Lifestyle : 0.15828677839851024\n",
      "News : 0.1334574798261949\n",
      "Travel : 0.12414649286157667\n",
      "Finance : 0.111731843575419\n",
      "Weather : 0.08690254500310365\n",
      "Food & Drink : 0.08069522036002483\n",
      "Reference : 0.0558659217877095\n",
      "Business : 0.05276225946617008\n",
      "Book : 0.04345127250155183\n",
      "Navigation : 0.0186219739292365\n",
      "Medical : 0.0186219739292365\n",
      "Catalogs : 0.012414649286157667\n"
     ]
    }
   ],
   "source": [
    "display_table(apple_final, -5)"
   ]
  },
  {
   "cell_type": "markdown",
   "id": "8aa650af",
   "metadata": {},
   "source": [
    "We can see that among the free English apps, more than a half (58.16%) are games. Entertainment apps are close to 8%, followed by photo and video apps, which are close to 5%. Only 3.66% of the apps are designed for education, followed by social networking apps which amount for 3.29% of the apps in our data set.\n",
    "\n",
    "The general impression is that App Store (at least the part containing free English apps) is dominated by apps that are designed for fun (games, entertainment, photo and video, social networking, sports, music, etc.), while apps with practical purposes (education, shopping, utilities, productivity, lifestyle, etc.) are more rare. However, the fact that fun apps are the most numerous doesn't also imply that they also have the greatest number of users — the demand might not be the same as the offer.\n",
    "\n",
    "Let's continue by examining the `Genres` and `Category` columns of the Google Play data set (two columns which seem to be related)."
   ]
  },
  {
   "cell_type": "code",
   "execution_count": 20,
   "id": "692de962",
   "metadata": {},
   "outputs": [
    {
     "name": "stdout",
     "output_type": "stream",
     "text": [
      "FAMILY : 1.8907942238267148\n",
      "GAME : 0.9724729241877256\n",
      "TOOLS : 0.8461191335740071\n",
      "BUSINESS : 0.45916064981949456\n",
      "LIFESTYLE : 0.39034296028880866\n",
      "PRODUCTIVITY : 0.3892148014440433\n",
      "FINANCE : 0.3700361010830325\n",
      "MEDICAL : 0.35311371841155237\n",
      "SPORTS : 0.33957581227436817\n",
      "PERSONALIZATION : 0.3316787003610108\n",
      "COMMUNICATION : 0.3237815884476535\n",
      "HEALTH_AND_FITNESS : 0.3079873646209386\n",
      "PHOTOGRAPHY : 0.2944494584837545\n",
      "NEWS_AND_MAGAZINES : 0.27978339350180503\n",
      "SOCIAL : 0.26624548736462095\n",
      "TRAVEL_AND_LOCAL : 0.23352888086642598\n",
      "SHOPPING : 0.22450361010830325\n",
      "BOOKS_AND_REFERENCE : 0.21435018050541516\n",
      "DATING : 0.1861462093862816\n",
      "VIDEO_PLAYERS : 0.17937725631768955\n",
      "MAPS_AND_NAVIGATION : 0.13989169675090252\n",
      "FOOD_AND_DRINK : 0.12409747292418771\n",
      "EDUCATION : 0.11620036101083032\n",
      "ENTERTAINMENT : 0.09589350180505414\n",
      "LIBRARIES_AND_DEMO : 0.09363718411552346\n",
      "AUTO_AND_VEHICLES : 0.09250902527075812\n",
      "HOUSE_AND_HOME : 0.08235559566787004\n",
      "WEATHER : 0.08009927797833935\n",
      "EVENTS : 0.07107400722021662\n",
      "PARENTING : 0.06543321299638989\n",
      "ART_AND_DESIGN : 0.06430505415162455\n",
      "COMICS : 0.062048736462093856\n",
      "BEAUTY : 0.05979241877256318\n"
     ]
    }
   ],
   "source": [
    "display_table(android_final, 1) #category"
   ]
  },
  {
   "cell_type": "markdown",
   "id": "0be27b32",
   "metadata": {},
   "source": [
    "The landscape seems significantly different on Google Play: there are not that many apps designed for fun, and it seems that a good number of apps are designed for practical purposes (family, tools, business, lifestyle, productivity, etc.). However, if we investigate this further, we can see that the family category (which accounts for almost 19% of the apps) means mostly games for kids.\n",
    "\n",
    "Even so, practical apps seem to have a better representation on Google Play compared to App Store. This picture is also confirmed by the frequency table we see for the `Genres` column:"
   ]
  },
  {
   "cell_type": "code",
   "execution_count": 21,
   "id": "72e1cf54",
   "metadata": {},
   "outputs": [
    {
     "name": "stdout",
     "output_type": "stream",
     "text": [
      "Tools : 0.8449909747292418\n",
      "Entertainment : 0.6069494584837545\n",
      "Education : 0.5347472924187725\n",
      "Business : 0.45916064981949456\n",
      "Productivity : 0.3892148014440433\n",
      "Lifestyle : 0.3892148014440433\n",
      "Finance : 0.3700361010830325\n",
      "Medical : 0.35311371841155237\n",
      "Sports : 0.34634476534296027\n",
      "Personalization : 0.3316787003610108\n",
      "Communication : 0.3237815884476535\n",
      "Action : 0.31024368231046934\n",
      "Health & Fitness : 0.3079873646209386\n",
      "Photography : 0.2944494584837545\n",
      "News & Magazines : 0.27978339350180503\n",
      "Social : 0.26624548736462095\n",
      "Travel & Local : 0.23240072202166065\n",
      "Shopping : 0.22450361010830325\n",
      "Books & Reference : 0.21435018050541516\n",
      "Simulation : 0.20419675090252706\n",
      "Dating : 0.1861462093862816\n",
      "Arcade : 0.18501805054151624\n",
      "Video Players & Editors : 0.17712093862815884\n",
      "Casual : 0.1759927797833935\n",
      "Maps & Navigation : 0.13989169675090252\n",
      "Food & Drink : 0.12409747292418771\n",
      "Puzzle : 0.1128158844765343\n",
      "Racing : 0.09927797833935019\n",
      "Role Playing : 0.09363718411552346\n",
      "Libraries & Demo : 0.09363718411552346\n",
      "Auto & Vehicles : 0.09250902527075812\n",
      "Strategy : 0.09138086642599277\n",
      "House & Home : 0.08235559566787004\n",
      "Weather : 0.08009927797833935\n",
      "Events : 0.07107400722021662\n",
      "Adventure : 0.06768953068592058\n",
      "Comics : 0.06092057761732852\n",
      "Beauty : 0.05979241877256318\n",
      "Art & Design : 0.05979241877256318\n",
      "Parenting : 0.049638989169675095\n",
      "Card : 0.04512635379061372\n",
      "Casino : 0.04287003610108303\n",
      "Trivia : 0.04174187725631769\n",
      "Educational;Education : 0.039485559566787\n",
      "Board : 0.03835740072202166\n",
      "Educational : 0.03722924187725632\n",
      "Education;Education : 0.03384476534296029\n",
      "Word : 0.02594765342960289\n",
      "Casual;Pretend Play : 0.0236913357400722\n",
      "Music : 0.02030685920577617\n",
      "Racing;Action & Adventure : 0.016922382671480145\n",
      "Puzzle;Brain Games : 0.016922382671480145\n",
      "Entertainment;Music & Video : 0.016922382671480145\n",
      "Casual;Brain Games : 0.013537906137184115\n",
      "Casual;Action & Adventure : 0.013537906137184115\n",
      "Arcade;Action & Adventure : 0.012409747292418774\n",
      "Action;Action & Adventure : 0.010153429602888085\n",
      "Educational;Pretend Play : 0.009025270758122744\n",
      "Simulation;Action & Adventure : 0.0078971119133574\n",
      "Parenting;Education : 0.0078971119133574\n",
      "Entertainment;Brain Games : 0.0078971119133574\n",
      "Board;Brain Games : 0.0078971119133574\n",
      "Parenting;Music & Video : 0.006768953068592058\n",
      "Educational;Brain Games : 0.006768953068592058\n",
      "Casual;Creativity : 0.006768953068592058\n",
      "Art & Design;Creativity : 0.006768953068592058\n",
      "Education;Pretend Play : 0.005640794223826715\n",
      "Role Playing;Pretend Play : 0.004512635379061372\n",
      "Education;Creativity : 0.004512635379061372\n",
      "Role Playing;Action & Adventure : 0.003384476534296029\n",
      "Puzzle;Action & Adventure : 0.003384476534296029\n",
      "Entertainment;Creativity : 0.003384476534296029\n",
      "Entertainment;Action & Adventure : 0.003384476534296029\n",
      "Educational;Creativity : 0.003384476534296029\n",
      "Educational;Action & Adventure : 0.003384476534296029\n",
      "Education;Music & Video : 0.003384476534296029\n",
      "Education;Brain Games : 0.003384476534296029\n",
      "Education;Action & Adventure : 0.003384476534296029\n",
      "Adventure;Action & Adventure : 0.003384476534296029\n",
      "Video Players & Editors;Music & Video : 0.002256317689530686\n",
      "Sports;Action & Adventure : 0.002256317689530686\n",
      "Simulation;Pretend Play : 0.002256317689530686\n",
      "Puzzle;Creativity : 0.002256317689530686\n",
      "Music;Music & Video : 0.002256317689530686\n",
      "Entertainment;Pretend Play : 0.002256317689530686\n",
      "Casual;Education : 0.002256317689530686\n",
      "Board;Action & Adventure : 0.002256317689530686\n",
      "Video Players & Editors;Creativity : 0.001128158844765343\n",
      "Trivia;Education : 0.001128158844765343\n",
      "Travel & Local;Action & Adventure : 0.001128158844765343\n",
      "Tools;Education : 0.001128158844765343\n",
      "Strategy;Education : 0.001128158844765343\n",
      "Strategy;Creativity : 0.001128158844765343\n",
      "Strategy;Action & Adventure : 0.001128158844765343\n",
      "Simulation;Education : 0.001128158844765343\n",
      "Role Playing;Brain Games : 0.001128158844765343\n",
      "Racing;Pretend Play : 0.001128158844765343\n",
      "Puzzle;Education : 0.001128158844765343\n",
      "Parenting;Brain Games : 0.001128158844765343\n",
      "Music & Audio;Music & Video : 0.001128158844765343\n",
      "Lifestyle;Pretend Play : 0.001128158844765343\n",
      "Lifestyle;Education : 0.001128158844765343\n",
      "Health & Fitness;Education : 0.001128158844765343\n",
      "Health & Fitness;Action & Adventure : 0.001128158844765343\n",
      "Entertainment;Education : 0.001128158844765343\n",
      "Communication;Creativity : 0.001128158844765343\n",
      "Comics;Creativity : 0.001128158844765343\n",
      "Casual;Music & Video : 0.001128158844765343\n",
      "Card;Action & Adventure : 0.001128158844765343\n",
      "Books & Reference;Education : 0.001128158844765343\n",
      "Art & Design;Pretend Play : 0.001128158844765343\n",
      "Art & Design;Action & Adventure : 0.001128158844765343\n",
      "Arcade;Pretend Play : 0.001128158844765343\n",
      "Adventure;Education : 0.001128158844765343\n"
     ]
    }
   ],
   "source": [
    "display_table(android_final, -4)"
   ]
  },
  {
   "cell_type": "markdown",
   "id": "ce052da7",
   "metadata": {},
   "source": [
    "The difference between the `Genres` and the `Category` columns is not crystal clear, but one thing we can notice is that the Genres column is much more granular (it has more categories). We're only looking for the bigger picture at the moment, so we'll only work with the Category column moving forward.\n",
    "\n",
    "**Up to this point, we found that the App Store is dominated by apps designed for fun, while Google Play shows a more balanced landscape of both practical and for-fun apps. Now we'd like to get an idea about the kind of apps that have most users.**"
   ]
  },
  {
   "cell_type": "markdown",
   "id": "4f4de0de",
   "metadata": {},
   "source": [
    "# Most Popular Apps by Genre on the App Store\n",
    "\n",
    "One way to find out what genres are the most popular (have the most users) is to calculate the average number of installs for each app genre. For the Google Play data set, we can find this information in the `Installs` column, but for the App Store data set this information is missing. As a workaround, we'll take the total number of user ratings as a proxy, which we can find in the `rating_count_tot` app.\n",
    "\n",
    "Below, we calculate the average number of user ratings per app genre on the App Store:"
   ]
  },
  {
   "cell_type": "code",
   "execution_count": 22,
   "id": "434d33ac",
   "metadata": {
    "scrolled": true
   },
   "outputs": [
    {
     "name": "stdout",
     "output_type": "stream",
     "text": [
      "Productivity : 21028.410714285714\n",
      "Weather : 52279.892857142855\n",
      "Shopping : 26919.690476190477\n",
      "Reference : 74942.11111111111\n",
      "Finance : 31467.944444444445\n",
      "Music : 57326.530303030304\n",
      "Utilities : 18684.456790123455\n",
      "Travel : 28243.8\n",
      "Social Networking : 71548.34905660378\n",
      "Sports : 23008.898550724636\n",
      "Health & Fitness : 23298.015384615384\n",
      "Games : 22788.6696905016\n",
      "Food & Drink : 33333.92307692308\n",
      "News : 21248.023255813954\n",
      "Book : 39758.5\n",
      "Photo & Video : 28441.54375\n",
      "Entertainment : 14029.830708661417\n",
      "Business : 7491.117647058823\n",
      "Lifestyle : 16485.764705882353\n",
      "Education : 7003.983050847458\n",
      "Navigation : 86090.33333333333\n",
      "Medical : 612.0\n",
      "Catalogs : 4004.0\n"
     ]
    }
   ],
   "source": [
    "genres_apple = freq_table(apple_final, -5)\n",
    "\n",
    "for genre in genres_apple:\n",
    "    total = 0\n",
    "    len_genre = 0\n",
    "    for app in apple_final:\n",
    "        genre_app = app[-5]\n",
    "        if genre_app == genre:            \n",
    "            n_ratings = float(app[6])\n",
    "            total += n_ratings\n",
    "            len_genre += 1\n",
    "    avg_n_ratings = total / len_genre\n",
    "    print(genre, ':', avg_n_ratings)"
   ]
  },
  {
   "cell_type": "markdown",
   "id": "62b0dff5",
   "metadata": {},
   "source": [
    "# Most Popular Apps by Genre on Google Play\n",
    "\n",
    "For the Google Play market, we actually have data about the number of installs, so we should be able to get a clearer picture about genre popularity. However, the install numbers don't seem precise enough — we can see that most values are open-ended (100+, 1,000+, 5,000+, etc.):\n",
    "\n"
   ]
  },
  {
   "cell_type": "code",
   "execution_count": 23,
   "id": "52e7b610",
   "metadata": {},
   "outputs": [
    {
     "name": "stdout",
     "output_type": "stream",
     "text": [
      "1,000,000+ : 1.572653429602888\n",
      "100,000+ : 1.1552346570397112\n",
      "10,000,000+ : 1.0548285198555956\n",
      "10,000+ : 1.01985559566787\n",
      "1,000+ : 0.8393501805054151\n",
      "100+ : 0.6915613718411552\n",
      "5,000,000+ : 0.6825361010830324\n",
      "500,000+ : 0.5561823104693141\n",
      "50,000+ : 0.4772111913357401\n",
      "5,000+ : 0.4512635379061372\n",
      "10+ : 0.35424187725631767\n",
      "500+ : 0.3249097472924187\n",
      "50,000,000+ : 0.23014440433212996\n",
      "100,000,000+ : 0.21322202166064982\n",
      "50+ : 0.19178700361010828\n",
      "5+ : 0.078971119133574\n",
      "1+ : 0.05076714801444043\n",
      "500,000,000+ : 0.02707581227436823\n",
      "1,000,000,000+ : 0.02256317689530686\n",
      "0+ : 0.004512635379061372\n",
      "0 : 0.001128158844765343\n"
     ]
    }
   ],
   "source": [
    "display_table(android_final, 5) # the Installs columns\n"
   ]
  },
  {
   "cell_type": "markdown",
   "id": "b5af9bef",
   "metadata": {},
   "source": [
    "One problem with this data is that is not precise. For instance, we don't know whether an app with 100,000+ installs has 100,000 installs, 200,000, or 350,000. However, we don't need very precise data for our purposes — we only want to get an idea which app genres attract the most users, and we don't need perfect precision with respect to the number of users.\n",
    "\n",
    "We're going to leave the numbers as they are, which means that we'll consider that an app with 100,000+ installs has 100,000 installs, and an app with 1,000,000+ installs has 1,000,000 installs, and so on.\n",
    "\n",
    "To perform computations, however, we'll need to convert each install number to float — this means that we need to remove the commas and the plus characters, otherwise the conversion will fail and raise an error. We'll do this directly in the loop below, where we also compute the average number of installs for each genre (category)."
   ]
  },
  {
   "cell_type": "code",
   "execution_count": 24,
   "id": "14db87b2",
   "metadata": {},
   "outputs": [
    {
     "name": "stdout",
     "output_type": "stream",
     "text": [
      "ART_AND_DESIGN : 1986335.0877192982\n",
      "AUTO_AND_VEHICLES : 647317.8170731707\n",
      "BEAUTY : 513151.88679245283\n",
      "BOOKS_AND_REFERENCE : 8767811.894736841\n",
      "BUSINESS : 1712290.1474201474\n",
      "COMICS : 817657.2727272727\n",
      "COMMUNICATION : 38456119.167247385\n",
      "DATING : 854028.8303030303\n",
      "EDUCATION : 1833495.145631068\n",
      "ENTERTAINMENT : 11640705.88235294\n",
      "EVENTS : 253542.22222222222\n",
      "FINANCE : 1387692.475609756\n",
      "FOOD_AND_DRINK : 1924897.7363636363\n",
      "HEALTH_AND_FITNESS : 4188821.9853479853\n",
      "HOUSE_AND_HOME : 1331540.5616438356\n",
      "LIBRARIES_AND_DEMO : 638503.734939759\n",
      "LIFESTYLE : 1437816.2687861272\n",
      "GAME : 15588015.603248259\n",
      "FAMILY : 3695641.8198090694\n",
      "MEDICAL : 120550.61980830671\n",
      "SOCIAL : 23253652.127118643\n",
      "SHOPPING : 7036877.311557789\n",
      "PHOTOGRAPHY : 17840110.40229885\n",
      "SPORTS : 3638640.1428571427\n",
      "TRAVEL_AND_LOCAL : 13984077.710144928\n",
      "TOOLS : 10801391.298666667\n",
      "PERSONALIZATION : 5201482.6122448975\n",
      "PRODUCTIVITY : 16787331.344927534\n",
      "PARENTING : 542603.6206896552\n",
      "WEATHER : 5074486.197183099\n",
      "VIDEO_PLAYERS : 24727872.452830188\n",
      "NEWS_AND_MAGAZINES : 9549178.467741935\n",
      "MAPS_AND_NAVIGATION : 4056941.7741935486\n"
     ]
    }
   ],
   "source": [
    "categories_android = freq_table(android_final, 1)\n",
    "\n",
    "for category in categories_android:\n",
    "    total = 0\n",
    "    len_category = 0\n",
    "    for app in android_final:\n",
    "        category_app = app[1]\n",
    "        if category_app == category:            \n",
    "            n_installs = app[5]\n",
    "            n_installs = n_installs.replace(',', '')\n",
    "            n_installs = n_installs.replace('+', '')\n",
    "            total += float(n_installs)\n",
    "            len_category += 1\n",
    "    avg_n_installs = total / len_category\n",
    "    print(category, ':', avg_n_installs)"
   ]
  },
  {
   "cell_type": "markdown",
   "id": "c0b33da7",
   "metadata": {},
   "source": [
    "# Conclusions\n",
    "\n",
    "In this project, we analyzed data about the App Store and Google Play mobile apps with the goal of recommending an app profile that can be profitable for both markets.\n",
    "\n",
    "We concluded that taking a popular book (perhaps a more recent book) and turning it into an app could be profitable for both the Google Play and the App Store markets. The markets are already full of libraries, so we need to add some special features besides the raw version of the book. This might include daily quotes from the book, an audio version of the book, quizzes on the book, a forum where people can discuss the book, etc."
   ]
  },
  {
   "cell_type": "code",
   "execution_count": null,
   "id": "f7b56dff",
   "metadata": {},
   "outputs": [],
   "source": []
  }
 ],
 "metadata": {
  "kernelspec": {
   "display_name": "Python 3 (ipykernel)",
   "language": "python",
   "name": "python3"
  },
  "language_info": {
   "codemirror_mode": {
    "name": "ipython",
    "version": 3
   },
   "file_extension": ".py",
   "mimetype": "text/x-python",
   "name": "python",
   "nbconvert_exporter": "python",
   "pygments_lexer": "ipython3",
   "version": "3.10.9"
  }
 },
 "nbformat": 4,
 "nbformat_minor": 5
}
